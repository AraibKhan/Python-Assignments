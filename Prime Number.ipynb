{
 "cells": [
  {
   "cell_type": "code",
   "execution_count": 5,
   "metadata": {},
   "outputs": [
    {
     "name": "stdout",
     "output_type": "stream",
     "text": [
      "Enter a number.7\n",
      "The number is PRIME\n"
     ]
    }
   ],
   "source": [
    "a = 0\n",
    "while a <= 0:\n",
    "    a = int(input(\"Enter a number.\"))\n",
    "b = 1\n",
    "c = 0\n",
    "d = 0\n",
    "while b <= a:\n",
    "    c = a % b\n",
    "    if c == 0:\n",
    "        d = d + 1\n",
    "    b = b + 1\n",
    "if d == 2:\n",
    "    print(\"The number is PRIME\")\n",
    "else:\n",
    "    print(\"The number is NOT A PRIME\")"
   ]
  },
  {
   "cell_type": "code",
   "execution_count": null,
   "metadata": {},
   "outputs": [],
   "source": []
  }
 ],
 "metadata": {
  "kernelspec": {
   "display_name": "Python 3",
   "language": "python",
   "name": "python3"
  },
  "language_info": {
   "codemirror_mode": {
    "name": "ipython",
    "version": 3
   },
   "file_extension": ".py",
   "mimetype": "text/x-python",
   "name": "python",
   "nbconvert_exporter": "python",
   "pygments_lexer": "ipython3",
   "version": "3.7.4"
  }
 },
 "nbformat": 4,
 "nbformat_minor": 2
}
