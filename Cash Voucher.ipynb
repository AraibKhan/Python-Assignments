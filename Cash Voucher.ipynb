{
 "cells": [
  {
   "cell_type": "code",
   "execution_count": 2,
   "metadata": {},
   "outputs": [
    {
     "name": "stdout",
     "output_type": "stream",
     "text": [
      "Enter vouvher amount1000\n",
      "Enter purchasing amount200\n",
      "Your remaining amount is  800\n",
      "Your total purchases are of 200\n",
      "Enter purchasing amount600\n",
      "Your remaining amount is  200\n",
      "Your total purchases are of 800\n",
      "Enter purchasing amount150\n",
      "Your remaining amount is  50\n",
      "Your total purchases are of 950\n",
      "Enter purchasing amount50\n",
      "Your remaining amount is  0\n",
      "Your total purchases are of 1000\n"
     ]
    }
   ],
   "source": [
    "a = -1\n",
    "while a < 0 :\n",
    "    a = int(input(\"Enter vouvher amount\"))\n",
    "c = 0\n",
    "b = 0\n",
    "while a != 0 :\n",
    "    b = int(input(\"Enter purchasing amount\"))\n",
    "    c = c + b\n",
    "    a = a - b\n",
    "    print(\"Your remaining amount is \", a)\n",
    "    print(\"Your total purchases are of\", c)\n",
    "if b == a:\n",
    "    c = c + b\n",
    "    a = a - b\n",
    "    print(\"Your remaining amount is \", a)\n",
    "    print(\"Your total purchases are of\", c)\n",
    "if b < 0:\n",
    "    print(\"Your remaining amount is \", a)\n",
    "    print(\"Your total purchases are of\", c)"
   ]
  },
  {
   "cell_type": "code",
   "execution_count": null,
   "metadata": {},
   "outputs": [],
   "source": []
  }
 ],
 "metadata": {
  "kernelspec": {
   "display_name": "Python 3",
   "language": "python",
   "name": "python3"
  },
  "language_info": {
   "codemirror_mode": {
    "name": "ipython",
    "version": 3
   },
   "file_extension": ".py",
   "mimetype": "text/x-python",
   "name": "python",
   "nbconvert_exporter": "python",
   "pygments_lexer": "ipython3",
   "version": "3.7.4"
  }
 },
 "nbformat": 4,
 "nbformat_minor": 2
}
