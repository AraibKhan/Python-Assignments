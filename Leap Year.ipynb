{
 "cells": [
  {
   "cell_type": "code",
   "execution_count": 2,
   "metadata": {},
   "outputs": [
    {
     "name": "stdout",
     "output_type": "stream",
     "text": [
      "Enter year.2019\n",
      "It Is A Leap Year.\n"
     ]
    }
   ],
   "source": [
    "a = int(input(\"Enter year.\"))\n",
    "b = a % 4\n",
    "c = a % 100\n",
    "d = a % 400\n",
    "e = \"Not A Leap Year\"\n",
    "if b == 0:\n",
    "    e = \"It Is A Leap Year.\"\n",
    "    if c == 0:\n",
    "        e = \"Not A Leap Year\"\n",
    "        if d == 0:\n",
    "            e = \"It Is A Leap Year.\"\n",
    "print(e)            "
   ]
  },
  {
   "cell_type": "code",
   "execution_count": null,
   "metadata": {},
   "outputs": [],
   "source": []
  }
 ],
 "metadata": {
  "kernelspec": {
   "display_name": "Python 3",
   "language": "python",
   "name": "python3"
  },
  "language_info": {
   "codemirror_mode": {
    "name": "ipython",
    "version": 3
   },
   "file_extension": ".py",
   "mimetype": "text/x-python",
   "name": "python",
   "nbconvert_exporter": "python",
   "pygments_lexer": "ipython3",
   "version": "3.7.4"
  }
 },
 "nbformat": 4,
 "nbformat_minor": 2
}
