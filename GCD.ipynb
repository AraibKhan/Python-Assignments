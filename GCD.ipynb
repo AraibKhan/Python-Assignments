{
 "cells": [
  {
   "cell_type": "code",
   "execution_count": 4,
   "metadata": {},
   "outputs": [
    {
     "name": "stdout",
     "output_type": "stream",
     "text": [
      "Enter first number.8\n",
      "Enter second number12\n",
      "The Greatest Common Divisor is 4\n"
     ]
    }
   ],
   "source": [
    "a = int(input(\"Enter first number.\"))\n",
    "b = int(input(\"Enter second number\"))\n",
    "if a < b:\n",
    "    s = a\n",
    "else:\n",
    "    s = b\n",
    "c = 1\n",
    "while c <= s:\n",
    "    d = a % c\n",
    "    e = b % c\n",
    "    if d == 0 and e == 0:\n",
    "        f = c\n",
    "    c = c + 1\n",
    "print(\"The Greatest Common Divisor is\", f)    "
   ]
  },
  {
   "cell_type": "code",
   "execution_count": null,
   "metadata": {},
   "outputs": [],
   "source": []
  }
 ],
 "metadata": {
  "kernelspec": {
   "display_name": "Python 3",
   "language": "python",
   "name": "python3"
  },
  "language_info": {
   "codemirror_mode": {
    "name": "ipython",
    "version": 3
   },
   "file_extension": ".py",
   "mimetype": "text/x-python",
   "name": "python",
   "nbconvert_exporter": "python",
   "pygments_lexer": "ipython3",
   "version": "3.7.4"
  }
 },
 "nbformat": 4,
 "nbformat_minor": 2
}
